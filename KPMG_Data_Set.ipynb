{
 "cells": [
  {
   "cell_type": "code",
   "execution_count": 1,
   "metadata": {},
   "outputs": [],
   "source": [
    "# Supress Warnings\n",
    "\n",
    "import warnings\n",
    "warnings.filterwarnings('ignore')\n"
   ]
  },
  {
   "cell_type": "code",
   "execution_count": 2,
   "metadata": {},
   "outputs": [],
   "source": [
    "import pandas as pd \n",
    "import numpy as np \n",
    "from datetime import datetime\n",
    "import matplotlib.pyplot as plt"
   ]
  },
  {
   "cell_type": "code",
   "execution_count": 3,
   "metadata": {},
   "outputs": [
    {
     "data": {
      "text/html": [
       "<div>\n",
       "<style scoped>\n",
       "    .dataframe tbody tr th:only-of-type {\n",
       "        vertical-align: middle;\n",
       "    }\n",
       "\n",
       "    .dataframe tbody tr th {\n",
       "        vertical-align: top;\n",
       "    }\n",
       "\n",
       "    .dataframe thead th {\n",
       "        text-align: right;\n",
       "    }\n",
       "</style>\n",
       "<table border=\"1\" class=\"dataframe\">\n",
       "  <thead>\n",
       "    <tr style=\"text-align: right;\">\n",
       "      <th></th>\n",
       "      <th>Unnamed: 0</th>\n",
       "      <th>Note: The data and information in this document is reflective of a hypothetical situation and client. This document is to be used for KPMG Virtual Internship purposes only.</th>\n",
       "      <th>Unnamed: 2</th>\n",
       "      <th>Unnamed: 3</th>\n",
       "      <th>Unnamed: 4</th>\n",
       "      <th>Unnamed: 5</th>\n",
       "      <th>Unnamed: 6</th>\n",
       "      <th>Unnamed: 7</th>\n",
       "      <th>Unnamed: 8</th>\n",
       "      <th>Unnamed: 9</th>\n",
       "      <th>Unnamed: 10</th>\n",
       "    </tr>\n",
       "  </thead>\n",
       "  <tbody>\n",
       "    <tr>\n",
       "      <th>0</th>\n",
       "      <td>NaN</td>\n",
       "      <td>NaN</td>\n",
       "      <td>NaN</td>\n",
       "      <td>NaN</td>\n",
       "      <td>NaN</td>\n",
       "      <td>NaN</td>\n",
       "      <td>NaN</td>\n",
       "      <td>NaN</td>\n",
       "      <td>NaN</td>\n",
       "      <td>NaN</td>\n",
       "      <td>NaN</td>\n",
       "    </tr>\n",
       "    <tr>\n",
       "      <th>1</th>\n",
       "      <td>NaN</td>\n",
       "      <td>NaN</td>\n",
       "      <td>NaN</td>\n",
       "      <td>NaN</td>\n",
       "      <td>NaN</td>\n",
       "      <td>NaN</td>\n",
       "      <td>NaN</td>\n",
       "      <td>NaN</td>\n",
       "      <td>NaN</td>\n",
       "      <td>NaN</td>\n",
       "      <td>NaN</td>\n",
       "    </tr>\n",
       "    <tr>\n",
       "      <th>2</th>\n",
       "      <td>NaN</td>\n",
       "      <td>NaN</td>\n",
       "      <td>NaN</td>\n",
       "      <td>NaN</td>\n",
       "      <td>NaN</td>\n",
       "      <td>NaN</td>\n",
       "      <td>NaN</td>\n",
       "      <td>NaN</td>\n",
       "      <td>NaN</td>\n",
       "      <td>NaN</td>\n",
       "      <td>NaN</td>\n",
       "    </tr>\n",
       "    <tr>\n",
       "      <th>3</th>\n",
       "      <td>NaN</td>\n",
       "      <td>NaN</td>\n",
       "      <td>KPMG Virtual Internship</td>\n",
       "      <td>NaN</td>\n",
       "      <td>NaN</td>\n",
       "      <td>NaN</td>\n",
       "      <td>NaN</td>\n",
       "      <td>NaN</td>\n",
       "      <td>NaN</td>\n",
       "      <td>NaN</td>\n",
       "      <td>NaN</td>\n",
       "    </tr>\n",
       "    <tr>\n",
       "      <th>4</th>\n",
       "      <td>NaN</td>\n",
       "      <td>NaN</td>\n",
       "      <td>Sprocket Central Pty Ltd Data Set</td>\n",
       "      <td>NaN</td>\n",
       "      <td>NaN</td>\n",
       "      <td>NaN</td>\n",
       "      <td>NaN</td>\n",
       "      <td>NaN</td>\n",
       "      <td>NaN</td>\n",
       "      <td>NaN</td>\n",
       "      <td>NaN</td>\n",
       "    </tr>\n",
       "    <tr>\n",
       "      <th>5</th>\n",
       "      <td>NaN</td>\n",
       "      <td>NaN</td>\n",
       "      <td>NaN</td>\n",
       "      <td>NaN</td>\n",
       "      <td>NaN</td>\n",
       "      <td>NaN</td>\n",
       "      <td>NaN</td>\n",
       "      <td>NaN</td>\n",
       "      <td>NaN</td>\n",
       "      <td>NaN</td>\n",
       "      <td>NaN</td>\n",
       "    </tr>\n",
       "    <tr>\n",
       "      <th>6</th>\n",
       "      <td>NaN</td>\n",
       "      <td>NaN</td>\n",
       "      <td>To view the datasets, click on the yellow tabs...</td>\n",
       "      <td>NaN</td>\n",
       "      <td>NaN</td>\n",
       "      <td>NaN</td>\n",
       "      <td>NaN</td>\n",
       "      <td>NaN</td>\n",
       "      <td>NaN</td>\n",
       "      <td>NaN</td>\n",
       "      <td>NaN</td>\n",
       "    </tr>\n",
       "    <tr>\n",
       "      <th>7</th>\n",
       "      <td>NaN</td>\n",
       "      <td>NaN</td>\n",
       "      <td>Click on the sheets are named \"CustomerDemogra...</td>\n",
       "      <td>NaN</td>\n",
       "      <td>NaN</td>\n",
       "      <td>NaN</td>\n",
       "      <td>NaN</td>\n",
       "      <td>NaN</td>\n",
       "      <td>NaN</td>\n",
       "      <td>NaN</td>\n",
       "      <td>NaN</td>\n",
       "    </tr>\n",
       "    <tr>\n",
       "      <th>8</th>\n",
       "      <td>NaN</td>\n",
       "      <td>NaN</td>\n",
       "      <td>NaN</td>\n",
       "      <td>NaN</td>\n",
       "      <td>NaN</td>\n",
       "      <td>NaN</td>\n",
       "      <td>NaN</td>\n",
       "      <td>NaN</td>\n",
       "      <td>NaN</td>\n",
       "      <td>NaN</td>\n",
       "      <td>NaN</td>\n",
       "    </tr>\n",
       "    <tr>\n",
       "      <th>9</th>\n",
       "      <td>NaN</td>\n",
       "      <td>NaN</td>\n",
       "      <td>NaN</td>\n",
       "      <td>NaN</td>\n",
       "      <td>NaN</td>\n",
       "      <td>NaN</td>\n",
       "      <td>NaN</td>\n",
       "      <td>NaN</td>\n",
       "      <td>NaN</td>\n",
       "      <td>NaN</td>\n",
       "      <td>NaN</td>\n",
       "    </tr>\n",
       "  </tbody>\n",
       "</table>\n",
       "</div>"
      ],
      "text/plain": [
       "   Unnamed: 0  \\\n",
       "0         NaN   \n",
       "1         NaN   \n",
       "2         NaN   \n",
       "3         NaN   \n",
       "4         NaN   \n",
       "5         NaN   \n",
       "6         NaN   \n",
       "7         NaN   \n",
       "8         NaN   \n",
       "9         NaN   \n",
       "\n",
       "   Note: The data and information in this document is reflective of a hypothetical situation and client. This document is to be used for KPMG Virtual Internship purposes only.   \\\n",
       "0                                                NaN                                                                                                                               \n",
       "1                                                NaN                                                                                                                               \n",
       "2                                                NaN                                                                                                                               \n",
       "3                                                NaN                                                                                                                               \n",
       "4                                                NaN                                                                                                                               \n",
       "5                                                NaN                                                                                                                               \n",
       "6                                                NaN                                                                                                                               \n",
       "7                                                NaN                                                                                                                               \n",
       "8                                                NaN                                                                                                                               \n",
       "9                                                NaN                                                                                                                               \n",
       "\n",
       "                                          Unnamed: 2  Unnamed: 3  Unnamed: 4  \\\n",
       "0                                                NaN         NaN         NaN   \n",
       "1                                                NaN         NaN         NaN   \n",
       "2                                                NaN         NaN         NaN   \n",
       "3                            KPMG Virtual Internship         NaN         NaN   \n",
       "4                  Sprocket Central Pty Ltd Data Set         NaN         NaN   \n",
       "5                                                NaN         NaN         NaN   \n",
       "6  To view the datasets, click on the yellow tabs...         NaN         NaN   \n",
       "7  Click on the sheets are named \"CustomerDemogra...         NaN         NaN   \n",
       "8                                                NaN         NaN         NaN   \n",
       "9                                                NaN         NaN         NaN   \n",
       "\n",
       "  Unnamed: 5  Unnamed: 6  Unnamed: 7 Unnamed: 8  Unnamed: 9  Unnamed: 10  \n",
       "0        NaN         NaN         NaN        NaN         NaN          NaN  \n",
       "1        NaN         NaN         NaN        NaN         NaN          NaN  \n",
       "2        NaN         NaN         NaN        NaN         NaN          NaN  \n",
       "3        NaN         NaN         NaN        NaN         NaN          NaN  \n",
       "4        NaN         NaN         NaN        NaN         NaN          NaN  \n",
       "5        NaN         NaN         NaN        NaN         NaN          NaN  \n",
       "6        NaN         NaN         NaN        NaN         NaN          NaN  \n",
       "7        NaN         NaN         NaN        NaN         NaN          NaN  \n",
       "8        NaN         NaN         NaN        NaN         NaN          NaN  \n",
       "9        NaN         NaN         NaN        NaN         NaN          NaN  "
      ]
     },
     "execution_count": 3,
     "metadata": {},
     "output_type": "execute_result"
    }
   ],
   "source": [
    "kpmg = pd.read_excel(\"KPMG_VI_New_raw_data_update_final.xlsx\")\n",
    "kpmg.head(10)"
   ]
  },
  {
   "cell_type": "code",
   "execution_count": 4,
   "metadata": {},
   "outputs": [
    {
     "data": {
      "text/plain": [
       "(100, 11)"
      ]
     },
     "execution_count": 4,
     "metadata": {},
     "output_type": "execute_result"
    }
   ],
   "source": [
    "kpmg.shape"
   ]
  },
  {
   "cell_type": "code",
   "execution_count": 14,
   "metadata": {},
   "outputs": [
    {
     "data": {
      "text/plain": [
       "<bound method NDFrame.describe of     Unnamed: 0  \\\n",
       "0          NaN   \n",
       "1          NaN   \n",
       "2          NaN   \n",
       "3          NaN   \n",
       "4          NaN   \n",
       "..         ...   \n",
       "95         NaN   \n",
       "96         NaN   \n",
       "97         NaN   \n",
       "98         NaN   \n",
       "99         NaN   \n",
       "\n",
       "    Note: The data and information in this document is reflective of a hypothetical situation and client. This document is to be used for KPMG Virtual Internship purposes only.   \\\n",
       "0                                                 NaN                                                                                                                               \n",
       "1                                                 NaN                                                                                                                               \n",
       "2                                                 NaN                                                                                                                               \n",
       "3                                                 NaN                                                                                                                               \n",
       "4                                                 NaN                                                                                                                               \n",
       "..                                                ...                                                                                                                               \n",
       "95                                                NaN                                                                                                                               \n",
       "96                                                NaN                                                                                                                               \n",
       "97                                                NaN                                                                                                                               \n",
       "98                                                NaN                                                                                                                               \n",
       "99                                                NaN                                                                                                                               \n",
       "\n",
       "                                           Unnamed: 2  Unnamed: 3  Unnamed: 4  \\\n",
       "0                                                 NaN         NaN         NaN   \n",
       "1                                                 NaN         NaN         NaN   \n",
       "2                                                 NaN         NaN         NaN   \n",
       "3                             KPMG Virtual Internship         NaN         NaN   \n",
       "4                   Sprocket Central Pty Ltd Data Set         NaN         NaN   \n",
       "..                                                ...         ...         ...   \n",
       "95                                                NaN         NaN         NaN   \n",
       "96                                                NaN         NaN         NaN   \n",
       "97  7) For the rest of this Module 1 task, it is u...         NaN         NaN   \n",
       "98                                                NaN         NaN         NaN   \n",
       "99                                                NaN         NaN         NaN   \n",
       "\n",
       "   Unnamed: 5  Unnamed: 6  Unnamed: 7 Unnamed: 8  Unnamed: 9  Unnamed: 10  \n",
       "0         NaN         NaN         NaN        NaN         NaN          NaN  \n",
       "1         NaN         NaN         NaN        NaN         NaN          NaN  \n",
       "2         NaN         NaN         NaN        NaN         NaN          NaN  \n",
       "3         NaN         NaN         NaN        NaN         NaN          NaN  \n",
       "4         NaN         NaN         NaN        NaN         NaN          NaN  \n",
       "..        ...         ...         ...        ...         ...          ...  \n",
       "95        NaN         NaN         NaN        NaN         NaN          NaN  \n",
       "96        NaN         NaN         NaN        NaN         NaN          NaN  \n",
       "97        NaN         NaN         NaN        NaN         NaN          NaN  \n",
       "98        NaN         NaN         NaN        NaN         NaN          NaN  \n",
       "99        NaN         NaN         NaN        NaN         NaN          NaN  \n",
       "\n",
       "[100 rows x 11 columns]>"
      ]
     },
     "execution_count": 14,
     "metadata": {},
     "output_type": "execute_result"
    }
   ],
   "source": [
    "kpmg.describe"
   ]
  },
  {
   "cell_type": "code",
   "execution_count": 10,
   "metadata": {},
   "outputs": [
    {
     "data": {
      "text/plain": [
       "<bound method DataFrame.info of     Unnamed: 0  \\\n",
       "0          NaN   \n",
       "1          NaN   \n",
       "2          NaN   \n",
       "3          NaN   \n",
       "4          NaN   \n",
       "..         ...   \n",
       "95         NaN   \n",
       "96         NaN   \n",
       "97         NaN   \n",
       "98         NaN   \n",
       "99         NaN   \n",
       "\n",
       "    Note: The data and information in this document is reflective of a hypothetical situation and client. This document is to be used for KPMG Virtual Internship purposes only.   \\\n",
       "0                                                 NaN                                                                                                                               \n",
       "1                                                 NaN                                                                                                                               \n",
       "2                                                 NaN                                                                                                                               \n",
       "3                                                 NaN                                                                                                                               \n",
       "4                                                 NaN                                                                                                                               \n",
       "..                                                ...                                                                                                                               \n",
       "95                                                NaN                                                                                                                               \n",
       "96                                                NaN                                                                                                                               \n",
       "97                                                NaN                                                                                                                               \n",
       "98                                                NaN                                                                                                                               \n",
       "99                                                NaN                                                                                                                               \n",
       "\n",
       "                                           Unnamed: 2  Unnamed: 3  Unnamed: 4  \\\n",
       "0                                                 NaN         NaN         NaN   \n",
       "1                                                 NaN         NaN         NaN   \n",
       "2                                                 NaN         NaN         NaN   \n",
       "3                             KPMG Virtual Internship         NaN         NaN   \n",
       "4                   Sprocket Central Pty Ltd Data Set         NaN         NaN   \n",
       "..                                                ...         ...         ...   \n",
       "95                                                NaN         NaN         NaN   \n",
       "96                                                NaN         NaN         NaN   \n",
       "97  7) For the rest of this Module 1 task, it is u...         NaN         NaN   \n",
       "98                                                NaN         NaN         NaN   \n",
       "99                                                NaN         NaN         NaN   \n",
       "\n",
       "   Unnamed: 5  Unnamed: 6  Unnamed: 7 Unnamed: 8  Unnamed: 9  Unnamed: 10  \n",
       "0         NaN         NaN         NaN        NaN         NaN          NaN  \n",
       "1         NaN         NaN         NaN        NaN         NaN          NaN  \n",
       "2         NaN         NaN         NaN        NaN         NaN          NaN  \n",
       "3         NaN         NaN         NaN        NaN         NaN          NaN  \n",
       "4         NaN         NaN         NaN        NaN         NaN          NaN  \n",
       "..        ...         ...         ...        ...         ...          ...  \n",
       "95        NaN         NaN         NaN        NaN         NaN          NaN  \n",
       "96        NaN         NaN         NaN        NaN         NaN          NaN  \n",
       "97        NaN         NaN         NaN        NaN         NaN          NaN  \n",
       "98        NaN         NaN         NaN        NaN         NaN          NaN  \n",
       "99        NaN         NaN         NaN        NaN         NaN          NaN  \n",
       "\n",
       "[100 rows x 11 columns]>"
      ]
     },
     "execution_count": 10,
     "metadata": {},
     "output_type": "execute_result"
    }
   ],
   "source": [
    "kpmg.info"
   ]
  },
  {
   "cell_type": "code",
   "execution_count": 6,
   "metadata": {},
   "outputs": [
    {
     "data": {
      "text/plain": [
       "Unnamed: 0                                                                                                                                                                       100\n",
       "Note: The data and information in this document is reflective of a hypothetical situation and client. This document is to be used for KPMG Virtual Internship purposes only.     100\n",
       "Unnamed: 2                                                                                                                                                                        81\n",
       "Unnamed: 3                                                                                                                                                                       100\n",
       "Unnamed: 4                                                                                                                                                                       100\n",
       "Unnamed: 5                                                                                                                                                                        98\n",
       "Unnamed: 6                                                                                                                                                                       100\n",
       "Unnamed: 7                                                                                                                                                                       100\n",
       "Unnamed: 8                                                                                                                                                                        98\n",
       "Unnamed: 9                                                                                                                                                                       100\n",
       "Unnamed: 10                                                                                                                                                                      100\n",
       "dtype: int64"
      ]
     },
     "execution_count": 6,
     "metadata": {},
     "output_type": "execute_result"
    }
   ],
   "source": [
    "kpmg.isnull().sum()"
   ]
  },
  {
   "cell_type": "code",
   "execution_count": 8,
   "metadata": {},
   "outputs": [],
   "source": [
    "import matplotlib.pyplot as plt\n",
    "import seaborn as sns"
   ]
  },
  {
   "cell_type": "code",
   "execution_count": 9,
   "metadata": {},
   "outputs": [
    {
     "data": {
      "image/png": "[encoded data removed]",
      "text/plain": [
       "<Figure size 1440x1440 with 72 Axes>"
      ]
     },
     "metadata": {
      "needs_background": "light"
     },
     "output_type": "display_data"
    }
   ],
   "source": [
    "sns.pairplot(kpmg)\n",
    "plt.show()"
   ]
  },
  {
   "cell_type": "markdown",
   "metadata": {},
   "source": [
    "There seems to be alot of missing data in this data set as there are Nan values each column. "
   ]
  }
 ],
 "metadata": {
  "kernelspec": {
   "display_name": "Python 3",
   "language": "python",
   "name": "python3"
  },
  "language_info": {
   "codemirror_mode": {
    "name": "ipython",
    "version": 3
   },
   "file_extension": ".py",
   "mimetype": "text/x-python",
   "name": "python",
   "nbconvert_exporter": "python",
   "pygments_lexer": "ipython3",
   "version": "3.8.5"
  }
 },
 "nbformat": 4,
 "nbformat_minor": 4
}
